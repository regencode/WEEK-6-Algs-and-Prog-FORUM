{
 "cells": [
  {
   "cell_type": "code",
   "execution_count": null,
   "metadata": {},
   "outputs": [],
   "source": [
    "#MCQ Answers\n",
    "\n",
    "1. b\n",
    "2. d\n",
    "3. a\n",
    "4. b\n",
    "5. b\n",
    "6. c\n",
    "7. a\n",
    "8. c\n",
    "9. a    \n"
   ]
  },
  {
   "cell_type": "code",
   "execution_count": 13,
   "metadata": {},
   "outputs": [
    {
     "name": "stdout",
     "output_type": "stream",
     "text": [
      "{'gold': 550, 'pouch': ['flint', 'twine', 'gemstone'], 'backpack': ['bedroll', 'bread loaf', 'xylophone'], 'pocket': ['seashell', 'strange berry', 'lint']}\n"
     ]
    }
   ],
   "source": [
    "inventory = {\n",
    " 'gold' : 500,\n",
    " 'pouch' : ['flint', 'twine', 'gemstone'],\n",
    " 'backpack' : ['xylophone','dagger', 'bedroll','bread loaf']\n",
    "}\n",
    "\n",
    "inventory[\"pocket\"]=[\"seashell\",\"strange berry\",\"lint\"]\n",
    "\n",
    "inventory[\"backpack\"].sort()\n",
    "inventory[\"backpack\"].remove(\"dagger\")\n",
    "inventory['gold'] += 50\n",
    "\n",
    "print(inventory)\n"
   ]
  },
  {
   "cell_type": "code",
   "execution_count": 63,
   "metadata": {},
   "outputs": [
    {
     "name": "stdout",
     "output_type": "stream",
     "text": [
      " banana \n",
      " price: 4 \n",
      " stock: 10 \n",
      "\n",
      " apple \n",
      " price: 2 \n",
      " stock: 15 \n",
      "\n",
      " orange \n",
      " price: 1.5 \n",
      " stock: 20 \n",
      "\n",
      " pear \n",
      " price: 3 \n",
      " stock: 8 \n",
      "\n",
      "Total: 124.0\n"
     ]
    }
   ],
   "source": [
    "prices = {\n",
    "    \"banana\": 4,\n",
    "    \"apple\": 2,\n",
    "    \"orange\": 1.5,\n",
    "    \"pear\": 3\n",
    "}\n",
    "total = 0\n",
    "\n",
    "stocks = { #I made this myself\n",
    "\n",
    "    \"banana\": 10,\n",
    "    \"apple\": 15,\n",
    "    \"orange\": 20,\n",
    "    \"pear\": 8,\n",
    "\n",
    "}\n",
    "\n",
    "for x, y in prices.items():\n",
    "    print(f\" {x} \\n price: {y} \\n stock: {stocks[x]} \\n\")\n",
    "    total += stocks[x] * y\n",
    "print(f\"Total: {total}\")"
   ]
  },
  {
   "cell_type": "code",
   "execution_count": 44,
   "metadata": {},
   "outputs": [
    {
     "name": "stdout",
     "output_type": "stream",
     "text": [
      " Total: 17.0\n"
     ]
    }
   ],
   "source": [
    "stock = {\n",
    " \"banana\": 6,\n",
    " \"apple\": 0,\n",
    " \"orange\": 32,\n",
    " \"pear\": 15\n",
    "}\n",
    "prices = {\n",
    " \"banana\": 4,\n",
    " \"apple\": 2,\n",
    " \"orange\": 1.5,\n",
    " \"pear\": 3\n",
    "}\n",
    "\n",
    "def compute_bill(food):\n",
    "    total = 0\n",
    "    for i in food:\n",
    "        if stock[i] > 0:\n",
    "            total += prices[i]\n",
    "            stock[i] -= 1\n",
    "    return total\n",
    "\n",
    "fruitlist = [\"banana\",\"apple\",\"orange\",\"pear\",\"apple\",\"apple\",\"orange\",\"pear\",\"banana\"]\n",
    "x = compute_bill(fruitlist)\n",
    "print(f\" Total: {x}\")"
   ]
  },
  {
   "cell_type": "code",
   "execution_count": 6,
   "metadata": {},
   "outputs": [
    {
     "name": "stdout",
     "output_type": "stream",
     "text": [
      " name: Eren\n",
      " homework: [90.0, 97.0, 75.0, 92.0]\n",
      " quizzes: [88.0, 40.0, 94.0]\n",
      " tests: [75.0, 90.0]\n",
      "\n",
      "\n",
      " name: Mikasa\n",
      " homework: [100.0, 92.0, 98.0, 100.0]\n",
      " quizzes: [82.0, 83.0, 91.0]\n",
      " tests: [89.0, 97.0]\n",
      "\n",
      "\n",
      " name: Armin\n",
      " homework: [0.0, 87.0, 75.0, 22.0]\n",
      " quizzes: [0.0, 75.0, 78.0]\n",
      " tests: [100.0, 100.0]\n",
      "\n",
      "\n",
      "Mikasa's average grade: 91.14999999999999\n",
      "Class average: 83.86666666666666\n",
      "Class average letter grade: B\n"
     ]
    }
   ],
   "source": [
    "eren = {\n",
    " \"name\": \"Eren\",\n",
    " \"homework\": [90.0,97.0,75.0,92.0],\n",
    " \"quizzes\": [88.0,40.0,94.0],\n",
    " \"tests\": [75.0,90.0]\n",
    "}\n",
    "mikasa = {\n",
    "\"name\": \"Mikasa\",\n",
    "\"homework\": [100.0, 92.0, 98.0, 100.0],\n",
    "\"quizzes\": [82.0, 83.0, 91.0],\n",
    "\"tests\": [89.0, 97.0]\n",
    "}\n",
    "armin = {\n",
    "\"name\": \"Armin\",\n",
    "\"homework\": [0.0, 87.0, 75.0, 22.0],\n",
    "\"quizzes\": [0.0, 75.0, 78.0],\n",
    "\"tests\": [100.0, 100.0]\n",
    "}\n",
    "\n",
    "students = [eren,mikasa,armin]\n",
    "\n",
    "def average(numbers):\n",
    "    total = float(sum(numbers))\n",
    "    total = total/len(numbers)\n",
    "    return total\n",
    "\n",
    "def get_average(student):\n",
    "    homework = average(student[\"homework\"])*0.1\n",
    "    quiz = average(student[\"quizzes\"])*0.3\n",
    "    tests = average(student[\"tests\"])*0.6\n",
    "    total = (homework + quiz + tests)\n",
    "    return total\n",
    "\n",
    "def get_letter_grade(score):\n",
    "    if score >= 90:\n",
    "        return \"A\"\n",
    "    elif score >= 80:\n",
    "        return \"B\"\n",
    "    elif score >= 70:\n",
    "        return \"C\"\n",
    "    elif score >= 60:\n",
    "        return \"D\"\n",
    "    else:\n",
    "        return \"F\"\n",
    "\n",
    "def get_class_average(students):\n",
    "    results = []\n",
    "    for i in students:\n",
    "        results.append(get_average(i))\n",
    "    return average(results)\n",
    "\n",
    "\n",
    "for i in students:\n",
    "    for x, y in i.items():\n",
    "        print(f\" {x}: {y}\")\n",
    "    print(\"\\n\")\n",
    "\n",
    "\n",
    "print(f\"Mikasa's average grade: {(get_average(mikasa))}\")\n",
    "print(f\"Class average: {get_class_average(students)}\")\n",
    "print(f\"Class average letter grade: {get_letter_grade(get_class_average(students))}\")"
   ]
  }
 ],
 "metadata": {
  "kernelspec": {
   "display_name": "Python 3.10.7 64-bit",
   "language": "python",
   "name": "python3"
  },
  "language_info": {
   "codemirror_mode": {
    "name": "ipython",
    "version": 3
   },
   "file_extension": ".py",
   "mimetype": "text/x-python",
   "name": "python",
   "nbconvert_exporter": "python",
   "pygments_lexer": "ipython3",
   "version": "3.10.7"
  },
  "orig_nbformat": 4,
  "vscode": {
   "interpreter": {
    "hash": "9b99263972b44c015480735cf63bda92f2498bdf9fc1c40be9c7a3b1231b16a3"
   }
  }
 },
 "nbformat": 4,
 "nbformat_minor": 2
}
